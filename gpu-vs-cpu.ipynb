{
 "cells": [
  {
   "cell_type": "code",
   "execution_count": 2,
   "id": "fdaab0b5-df0a-493f-b02d-1be82caa8739",
   "metadata": {},
   "outputs": [
    {
     "data": {
      "text/plain": [
       "'cuda'"
      ]
     },
     "execution_count": 2,
     "metadata": {},
     "output_type": "execute_result"
    }
   ],
   "source": [
    "import torch\n",
    "import numpy as np\n",
    "import time\n",
    "\n",
    "DEVICE = \"cuda\" if torch.cuda.is_available() else \"cpu\"\n",
    "DEVICE"
   ]
  },
  {
   "cell_type": "code",
   "execution_count": 4,
   "id": "821c83a9-26a1-4ab5-b798-92eab14daa97",
   "metadata": {},
   "outputs": [
    {
     "name": "stderr",
     "output_type": "stream",
     "text": [
      "UsageError: Line magic function `%%time` not found.\n"
     ]
    }
   ],
   "source": [
    "# By changing the dimensions below, you can see the GPU performs certain actions better than the CPU.\n",
    "# Usually, simple tasks that can be performed in parrallel work better on the GPU.\n",
    "%%time\n",
    "dimensions = [10000,10000]\n",
    "torch_rand1 = torch.rand(*dimensions).to(DEVICE)\n",
    "torch_rand2 = torch.rand(*dimensions).to(DEVICE)\n",
    "np_rand1 = torch.rand(*dimensions)\n",
    "np_rand2 = torch.rand(*dimensions)\n",
    "\n",
    "st = time.time()\n",
    "rand = (torch_rand1 @ torch_rand2)\n",
    "et = time.time()\n",
    "print(et - st)\n",
    "\n",
    "st = time.time()\n",
    "rand = np.multiply(np_rand1, np_rand2)\n",
    "et = time.time()\n",
    "print(et - st)"
   ]
  },
  {
   "cell_type": "code",
   "execution_count": null,
   "id": "2c2a2218-bed6-4bdf-be0f-dd6de23dfcab",
   "metadata": {},
   "outputs": [],
   "source": []
  }
 ],
 "metadata": {
  "kernelspec": {
   "display_name": "cuda-llm",
   "language": "python",
   "name": "cuda"
  },
  "language_info": {
   "codemirror_mode": {
    "name": "ipython",
    "version": 3
   },
   "file_extension": ".py",
   "mimetype": "text/x-python",
   "name": "python",
   "nbconvert_exporter": "python",
   "pygments_lexer": "ipython3",
   "version": "3.11.4"
  }
 },
 "nbformat": 4,
 "nbformat_minor": 5
}
