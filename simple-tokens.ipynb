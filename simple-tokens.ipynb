{
 "cells": [
  {
   "cell_type": "code",
   "execution_count": 1,
   "metadata": {},
   "outputs": [],
   "source": [
    "import torch\n",
    "\n",
    "DEVICE = \"cuda\" if torch.cuda.is_available() else \"cpu\"\n",
    "BLOCK_SIZE = 5\n",
    "BATCH_SIZE = 4"
   ]
  },
  {
   "cell_type": "code",
   "execution_count": 2,
   "metadata": {},
   "outputs": [
    {
     "name": "stdout",
     "output_type": "stream",
     "text": [
      "['\\n', ' ', '!', '\"', '&', \"'\", '(', ')', ',', '-', '.', '0', '1', '2', '3', '4', '5', '6', '7', '8', '9', ':', ';', '?', 'A', 'B', 'C', 'D', 'E', 'F', 'G', 'H', 'I', 'J', 'K', 'L', 'M', 'N', 'O', 'P', 'Q', 'R', 'S', 'T', 'U', 'V', 'W', 'Y', 'Z', 'a', 'b', 'c', 'd', 'e', 'f', 'g', 'h', 'i', 'j', 'k', 'l', 'm', 'n', 'o', 'p', 'q', 'r', 's', 't', 'u', 'v', 'w', 'x', 'y', 'z', '\\ufeff']\n",
      "76\n"
     ]
    }
   ],
   "source": [
    "with open(\"data/wizard_of_oz.txt\", \"r\", encoding=\"utf-8\") as f:\n",
    "    text = f.read()\n",
    "chars = sorted(set(text))\n",
    "print(chars)\n",
    "print(len(chars))"
   ]
  },
  {
   "cell_type": "code",
   "execution_count": 13,
   "metadata": {},
   "outputs": [
    {
     "data": {
      "text/plain": [
       "tensor([75, 43, 63,  1, 36, 73,  1, 41, 53, 49, 52, 53, 66, 67,  0,  0,  0, 32,\n",
       "        68,  5, 67,  1, 62, 63,  1, 69, 67, 53, 22,  1, 62, 63,  1, 69, 67, 53,\n",
       "         1, 49, 68,  1, 49, 60, 60, 10,  1,  1, 43, 56, 53,  1, 51, 56, 57, 60,\n",
       "        52, 66, 53, 62,  1, 71, 63, 62,  5, 68,  1, 60, 53, 68,  1, 61, 53,  1,\n",
       "        67, 68, 63, 64,  1, 68, 53, 60, 60, 57, 62, 55,  0, 68, 49, 60, 53, 67,\n",
       "         1, 63, 54,  1, 68, 56, 53,  1, 35, 49])"
      ]
     },
     "execution_count": 13,
     "metadata": {},
     "output_type": "execute_result"
    }
   ],
   "source": [
    "string_to_int = {ch:i for i,ch in enumerate(chars)}\n",
    "int_to_string = {i:ch for i,ch in enumerate(chars)}\n",
    "encode = lambda s: [string_to_int[c] for c in s]\n",
    "decode = lambda s: [int_to_string[c] for c in s]\n",
    "\n",
    "data = torch.tensor(encode(text), dtype=torch.long)\n",
    "data[:100]"
   ]
  },
  {
   "cell_type": "code",
   "execution_count": 17,
   "metadata": {},
   "outputs": [],
   "source": [
    "train_test_split = 0.8\n",
    "split_index = int(train_test_split*len(data))\n",
    "train_data = data[:split_index]\n",
    "test_data = data[split_index:]"
   ]
  },
  {
   "cell_type": "code",
   "execution_count": 23,
   "metadata": {},
   "outputs": [
    {
     "name": "stdout",
     "output_type": "stream",
     "text": [
      "tensor([64]) -> 66\n",
      "tensor([64, 66]) -> 63\n",
      "tensor([64, 66, 63]) -> 70\n",
      "tensor([64, 66, 63, 70]) -> 63\n",
      "tensor([64, 66, 63, 70, 63]) -> 59\n",
      "tensor([64, 66, 63, 70, 63, 59]) -> 53\n",
      "tensor([64, 66, 63, 70, 63, 59, 53]) -> 52\n",
      "tensor([64, 66, 63, 70, 63, 59, 53, 52]) -> 10\n"
     ]
    }
   ],
   "source": [
    "x = train_data[:BLOCK_SIZE]\n",
    "y = train_data[1:BLOCK_SIZE+1]\n",
    "\n",
    "for t in range(BLOCK_SIZE):\n",
    "    context = x[:t+1]\n",
    "    target = y[t]\n",
    "    print(f\"{context} -> {target}\")"
   ]
  },
  {
   "cell_type": "code",
   "execution_count": null,
   "metadata": {},
   "outputs": [],
   "source": []
  }
 ],
 "metadata": {
  "kernelspec": {
   "display_name": "cuda-llm",
   "language": "python",
   "name": "cuda"
  },
  "language_info": {
   "codemirror_mode": {
    "name": "ipython",
    "version": 3
   },
   "file_extension": ".py",
   "mimetype": "text/x-python",
   "name": "python",
   "nbconvert_exporter": "python",
   "pygments_lexer": "ipython3",
   "version": "3.11.4"
  }
 },
 "nbformat": 4,
 "nbformat_minor": 4
}
