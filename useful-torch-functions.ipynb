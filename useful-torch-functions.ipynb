{
 "cells": [
  {
   "cell_type": "code",
   "execution_count": 1,
   "id": "6d9754b6-f565-49e1-ab17-0b1355741029",
   "metadata": {},
   "outputs": [],
   "source": [
    "import torch"
   ]
  },
  {
   "cell_type": "code",
   "execution_count": 20,
   "id": "21fd5b78-1c82-461a-8ea9-1797a94ec973",
   "metadata": {},
   "outputs": [
    {
     "name": "stdout",
     "output_type": "stream",
     "text": [
      "tensor([0, 1, 1, 1, 1, 2, 1, 1, 1, 1])\n"
     ]
    }
   ],
   "source": [
    "# Multinomial creates a distribution in relation to the probabilities tensor\n",
    "# In this example, we define the probability of a value being 0 as 10%, 1 as 80% and 2 as 10%\n",
    "probabilities = torch.tensor([0.1, 0.8, 0.1])\n",
    "samples = torch.multinomial(probabilities, num_samples=10, replacement=True)\n",
    "print(samples)"
   ]
  },
  {
   "cell_type": "code",
   "execution_count": 24,
   "id": "6dfc0baf-5531-41a8-8e98-08516bcbca2d",
   "metadata": {},
   "outputs": [
    {
     "name": "stdout",
     "output_type": "stream",
     "text": [
      "tensor([1, 2, 3, 4, 5])\n"
     ]
    }
   ],
   "source": [
    "tensor_1 = torch.tensor([1,2,3,4])\n",
    "tensor_2 = torch.tensor([5])\n",
    "out = torch.cat((tensor_1, tensor_2), dim=0)\n",
    "print(out)"
   ]
  },
  {
   "cell_type": "code",
   "execution_count": 29,
   "id": "76c31932-64db-4596-824c-d0d8f2e56b7f",
   "metadata": {},
   "outputs": [
    {
     "name": "stdout",
     "output_type": "stream",
     "text": [
      "tensor([[1., 1., 1., 1., 1.],\n",
      "        [1., 1., 1., 1., 1.],\n",
      "        [1., 1., 1., 1., 1.],\n",
      "        [1., 1., 1., 1., 1.],\n",
      "        [1., 1., 1., 1., 1.]])\n",
      "tensor([[1., 0., 0., 0., 0.],\n",
      "        [1., 1., 0., 0., 0.],\n",
      "        [1., 1., 1., 0., 0.],\n",
      "        [1., 1., 1., 1., 0.],\n",
      "        [1., 1., 1., 1., 1.]])\n"
     ]
    }
   ],
   "source": [
    "# Tril returns the lower triangle of a matrix.\n",
    "# This is useful for iteratively taking into account the entirety of a block of data.\n",
    "ones = torch.ones(5,5)\n",
    "print(ones)\n",
    "out = torch.tril(ones)\n",
    "print(out)"
   ]
  },
  {
   "cell_type": "code",
   "execution_count": 21,
   "id": "d7ba718c-20f1-429a-a0c6-795826876169",
   "metadata": {},
   "outputs": [
    {
     "name": "stdout",
     "output_type": "stream",
     "text": [
      "tensor([[1., 1., 1., 1., 1.],\n",
      "        [1., 1., 1., 1., 1.],\n",
      "        [1., 1., 1., 1., 1.],\n",
      "        [1., 1., 1., 1., 1.],\n",
      "        [1., 1., 1., 1., 1.]])\n",
      "tensor([[1., 1., 1., 1., 1.],\n",
      "        [0., 1., 1., 1., 1.],\n",
      "        [0., 0., 1., 1., 1.],\n",
      "        [0., 0., 0., 1., 1.],\n",
      "        [0., 0., 0., 0., 1.]])\n"
     ]
    }
   ],
   "source": [
    "# Triu returns the upper triangle of a matrix.\n",
    "ones = torch.ones(5,5)\n",
    "print(ones)\n",
    "out = torch.triu(ones)\n",
    "print(out)"
   ]
  },
  {
   "cell_type": "code",
   "execution_count": 13,
   "id": "c8abdbd3-f944-4335-b273-1daf1cceb6b9",
   "metadata": {},
   "outputs": [
    {
     "name": "stdout",
     "output_type": "stream",
     "text": [
      "tensor([[-inf, -inf, -inf, -inf, -inf],\n",
      "        [0., -inf, -inf, -inf, -inf],\n",
      "        [0., 0., -inf, -inf, -inf],\n",
      "        [0., 0., 0., -inf, -inf],\n",
      "        [0., 0., 0., 0., -inf]])\n",
      "tensor([[0., 0., 0., 0., 0.],\n",
      "        [1., 0., 0., 0., 0.],\n",
      "        [1., 1., 0., 0., 0.],\n",
      "        [1., 1., 1., 0., 0.],\n",
      "        [1., 1., 1., 1., 0.]])\n"
     ]
    }
   ],
   "source": [
    "# Exp returns the e^num for each num in the matrix\n",
    "demo = torch.zeros(5,5).masked_fill(torch.triu(torch.ones(5,5, dtype=torch.bool)), float(\"-inf\"))\n",
    "print(demo)\n",
    "exponentiated = torch.exp(demo)\n",
    "print(exponentiated)"
   ]
  },
  {
   "cell_type": "code",
   "execution_count": 18,
   "id": "e7fc42d2-2ce7-477f-b2e9-357504805050",
   "metadata": {},
   "outputs": [
    {
     "name": "stdout",
     "output_type": "stream",
     "text": [
      "torch.Size([3, 2, 1])\n",
      "torch.Size([2, 1, 3])\n"
     ]
    }
   ],
   "source": [
    "# Transpose switches dimensions of the array\n",
    "input = torch.zeros(1,2,3)\n",
    "print(input.transpose(0,2).shape)\n",
    "print(input.transpose(0,1).shape)"
   ]
  },
  {
   "cell_type": "code",
   "execution_count": 20,
   "id": "cfccf5a8-b6ae-4d23-b7c1-6c2cb719a326",
   "metadata": {},
   "outputs": [
    {
     "name": "stdout",
     "output_type": "stream",
     "text": [
      "tensor([[1, 2, 3],\n",
      "        [4, 5, 6],\n",
      "        [7, 8, 9]])\n"
     ]
    }
   ],
   "source": [
    "# Stack adds a number of tensors together over another dimension\n",
    "t_1 = torch.tensor([1, 2, 3])\n",
    "t_2 = torch.tensor([4, 5, 6])\n",
    "t_3 = torch.tensor([7, 8, 9])\n",
    "out = torch.stack([t_1, t_2, t_3])\n",
    "print(out)"
   ]
  },
  {
   "cell_type": "code",
   "execution_count": 39,
   "id": "e77a0c2c-887e-4e90-b8c8-fc9803c40c52",
   "metadata": {},
   "outputs": [
    {
     "name": "stdout",
     "output_type": "stream",
     "text": [
      "tensor([0.0900, 0.2447, 0.6652])\n"
     ]
    }
   ],
   "source": [
    "# Softmax normalises a vector to a probability distribution. \n",
    "input = torch.tensor([1.,2.,3.])\n",
    "print(torch.softmax(input, dim=0))"
   ]
  },
  {
   "cell_type": "code",
   "execution_count": 38,
   "id": "cefb312f-8024-42c0-ad2d-8cb078e12ee2",
   "metadata": {},
   "outputs": [
    {
     "name": "stdout",
     "output_type": "stream",
     "text": [
      "tensor([-8.5609, -6.3337, -3.3237], grad_fn=<SqueezeBackward4>)\n"
     ]
    }
   ],
   "source": [
    "from torch import nn\n",
    "sample = torch.tensor([10.,10.,10.])\n",
    "linear = nn.Linear(3, 3, bias=False)\n",
    "print(linear(sample))"
   ]
  },
  {
   "cell_type": "code",
   "execution_count": null,
   "id": "98c3d214-0875-4922-bb8e-24c7f598bf5e",
   "metadata": {},
   "outputs": [],
   "source": []
  }
 ],
 "metadata": {
  "kernelspec": {
   "display_name": "Python 3 (ipykernel)",
   "language": "python",
   "name": "python3"
  },
  "language_info": {
   "codemirror_mode": {
    "name": "ipython",
    "version": 3
   },
   "file_extension": ".py",
   "mimetype": "text/x-python",
   "name": "python",
   "nbconvert_exporter": "python",
   "pygments_lexer": "ipython3",
   "version": "3.11.4"
  }
 },
 "nbformat": 4,
 "nbformat_minor": 5
}
