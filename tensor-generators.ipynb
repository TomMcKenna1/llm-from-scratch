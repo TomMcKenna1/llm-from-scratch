{
 "cells": [
  {
   "cell_type": "code",
   "execution_count": 1,
   "id": "2c979d68-9b85-45d8-b47f-c3c329705b99",
   "metadata": {},
   "outputs": [],
   "source": [
    "import torch"
   ]
  },
  {
   "cell_type": "code",
   "execution_count": 11,
   "id": "27d2a6a9-db0b-4c07-a6aa-fd0cbc40d754",
   "metadata": {},
   "outputs": [
    {
     "data": {
      "text/plain": [
       "tensor([ 13, -60, -30, -69,  -2,  -4])"
      ]
     },
     "execution_count": 11,
     "metadata": {},
     "output_type": "execute_result"
    }
   ],
   "source": [
    "# Get a tensor filled with random ints\n",
    "randint = torch.randint(-100, 100, (6,))\n",
    "randint"
   ]
  },
  {
   "cell_type": "code",
   "execution_count": 14,
   "id": "49153ffc-11c6-4ff4-a138-96a69c0fae1e",
   "metadata": {},
   "outputs": [
    {
     "data": {
      "text/plain": [
       "tensor([[0.1000, 1.2000],\n",
       "        [0.1000, 1.2000],\n",
       "        [0.1000, 1.2000]])"
      ]
     },
     "execution_count": 14,
     "metadata": {},
     "output_type": "execute_result"
    }
   ],
   "source": [
    "# Create a tensor\n",
    "tensor = torch.tensor([[0.1, 1.2], [0.1, 1.2], [0.1, 1.2]])\n",
    "tensor"
   ]
  },
  {
   "cell_type": "code",
   "execution_count": 15,
   "id": "d7551c6a-1655-44ae-8bf6-d052d8057e79",
   "metadata": {},
   "outputs": [
    {
     "data": {
      "text/plain": [
       "tensor([[0., 0., 0.],\n",
       "        [0., 0., 0.]])"
      ]
     },
     "execution_count": 15,
     "metadata": {},
     "output_type": "execute_result"
    }
   ],
   "source": [
    "# Get a tensor filled with zeros\n",
    "zeros = torch.zeros(2, 3)\n",
    "zeros"
   ]
  },
  {
   "cell_type": "code",
   "execution_count": 16,
   "id": "93b42fb3-9823-4a99-af20-5be9ea50b136",
   "metadata": {},
   "outputs": [
    {
     "data": {
      "text/plain": [
       "tensor([[1., 1., 1., 1.],\n",
       "        [1., 1., 1., 1.],\n",
       "        [1., 1., 1., 1.]])"
      ]
     },
     "execution_count": 16,
     "metadata": {},
     "output_type": "execute_result"
    }
   ],
   "source": [
    "# Get a tensor filled with ones\n",
    "ones = torch.ones(3, 4)\n",
    "ones"
   ]
  },
  {
   "cell_type": "code",
   "execution_count": 18,
   "id": "9e59d559-8c62-4c73-87ea-4423cae13c64",
   "metadata": {},
   "outputs": [
    {
     "data": {
      "text/plain": [
       "tensor([[8.3734e+34, 1.1098e-42, 0.0000e+00],\n",
       "        [0.0000e+00, 0.0000e+00, 0.0000e+00]])"
      ]
     },
     "execution_count": 18,
     "metadata": {},
     "output_type": "execute_result"
    }
   ],
   "source": [
    "# Get a tensor with uninitialised data\n",
    "input = torch.empty(2, 3)\n",
    "input"
   ]
  },
  {
   "cell_type": "code",
   "execution_count": 25,
   "id": "9afad72a-91ed-4c94-819a-bade203d551c",
   "metadata": {},
   "outputs": [
    {
     "data": {
      "text/plain": [
       "tensor([4, 7])"
      ]
     },
     "execution_count": 25,
     "metadata": {},
     "output_type": "execute_result"
    }
   ],
   "source": [
    "# Get a tensor with a certain range (start, end, steps)\n",
    "arange = torch.arange(4, 10, 3)\n",
    "arange"
   ]
  },
  {
   "cell_type": "code",
   "execution_count": 28,
   "id": "24af4154-727c-47c5-85f1-42ccc6fce4ed",
   "metadata": {},
   "outputs": [
    {
     "data": {
      "text/plain": [
       "tensor([ 3.0000,  4.7500,  6.5000,  8.2500, 10.0000])"
      ]
     },
     "execution_count": 28,
     "metadata": {},
     "output_type": "execute_result"
    }
   ],
   "source": [
    "# Get a tensor with equal difference between numbers (start, end, number of values)\n",
    "linspace = torch.linspace(3, 10, 5)\n",
    "linspace"
   ]
  },
  {
   "cell_type": "code",
   "execution_count": 27,
   "id": "9c1dd65c-7d9e-48c1-b70b-bb92f6287b87",
   "metadata": {},
   "outputs": [
    {
     "data": {
      "text/plain": [
       "tensor([1.0000e-10, 1.0000e-05, 1.0000e+00, 1.0000e+05, 1.0000e+10])"
      ]
     },
     "execution_count": 27,
     "metadata": {},
     "output_type": "execute_result"
    }
   ],
   "source": [
    "# Get a tensor with numbers spaced evenly on a log scale\n",
    "logspace = torch.logspace(-10, 10, 5)\n",
    "logspace"
   ]
  },
  {
   "cell_type": "code",
   "execution_count": 29,
   "id": "99f8221d-60be-4a9e-8228-1858026b44d4",
   "metadata": {},
   "outputs": [
    {
     "data": {
      "text/plain": [
       "tensor([[1., 0., 0., 0., 0.],\n",
       "        [0., 1., 0., 0., 0.],\n",
       "        [0., 0., 1., 0., 0.],\n",
       "        [0., 0., 0., 1., 0.],\n",
       "        [0., 0., 0., 0., 1.]])"
      ]
     },
     "execution_count": 29,
     "metadata": {},
     "output_type": "execute_result"
    }
   ],
   "source": [
    "# Get a 2d tensor with all zeros but ones on the diagonal\n",
    "eye = torch.eye(5)\n",
    "eye"
   ]
  },
  {
   "cell_type": "code",
   "execution_count": null,
   "id": "a309a79b-22ac-4e17-9abb-cae1073c90c0",
   "metadata": {},
   "outputs": [],
   "source": []
  }
 ],
 "metadata": {
  "kernelspec": {
   "display_name": "Python 3 (ipykernel)",
   "language": "python",
   "name": "python3"
  },
  "language_info": {
   "codemirror_mode": {
    "name": "ipython",
    "version": 3
   },
   "file_extension": ".py",
   "mimetype": "text/x-python",
   "name": "python",
   "nbconvert_exporter": "python",
   "pygments_lexer": "ipython3",
   "version": "3.11.4"
  }
 },
 "nbformat": 4,
 "nbformat_minor": 5
}
